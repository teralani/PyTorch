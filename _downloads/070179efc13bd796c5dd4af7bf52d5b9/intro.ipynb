{
  "cells": [
    {
      "cell_type": "code",
      "execution_count": 53,
      "metadata": {
        "id": "LfgbO0N-Z31M"
      },
      "outputs": [],
      "source": [
        "%matplotlib inline\n",
        "import torch                      # for PyTorch as a whole\n",
        "import torch.nn as nn             # for torch.nn.Module, the parent object for PyTorch models\n",
        "import torch.nn.functional as F   # for activation functions\n",
        "import torch.optim as optim\n",
        "\n",
        "import torchvision\n",
        "import torchvision.transforms as transforms\n",
        "\n",
        "import matplotlib\n",
        "import matplotlib.pyplot as plt\n",
        "import numpy as np"
      ]
    },
    {
      "cell_type": "code",
      "source": [
        "class Net(nn.Module):           # all models inherit from nn.Module\n",
        "\n",
        "  def __init__(self):             # all preprocessed data and constructed layers are loaded here in __init__\n",
        "    super(Net, self).__init__()\n",
        "    self.conv1 = nn.Conv2d(3, 6, 5)\n",
        "    self.pool = nn.MaxPool2d(2, 2)\n",
        "    self.conv2 = nn.Conv2d(6, 16, 5)\n",
        "\n",
        "    self.fc1 = nn.Linear(16 * 5 * 5, 120)\n",
        "    self.fc2 = nn.Linear(120, 84)\n",
        "    self.fc3 = nn.Linear(84, 10)\n",
        "\n",
        "  def forward(self, x):\n",
        "    x = self.pool(F.relu(self.conv1(x)))\n",
        "    x = self.pool(F.relu(self.conv2(x)))\n",
        "    x = x.view(-1, 16 * 5 * 5)\n",
        "    x = F.relu(self.fc1(x))\n",
        "    x = F.relu(self.fc2(x))\n",
        "    x = self.fc3(x)\n",
        "    return x\n",
        "\n",
        "  def num_flat_features(self, x):\n",
        "    size = x.size()[1:]           # all dimensions except batch dimensions\n",
        "    num_features = 1\n",
        "    for s in size:\n",
        "      num_features *= s\n",
        "    return num_features\n",
        ""
      ],
      "metadata": {
        "id": "xhlRp_6jfgLF"
      },
      "execution_count": 60,
      "outputs": []
    },
    {
      "cell_type": "code",
      "source": [
        "net = Net()\n",
        "print(net)\n",
        "\n",
        "input = torch.rand(1, 3, 32, 32)  # stand-in for a 32x32 black & white image\n",
        "print('\\nImage batch shape:')\n",
        "print(input.shape)\n",
        "\n",
        "output = net(input)\n",
        "print('\\nRaw output:')\n",
        "print(output)\n",
        "print(output.shape) # first dimension is batches"
      ],
      "metadata": {
        "colab": {
          "base_uri": "https://localhost:8080/"
        },
        "id": "LH1-vlRJj-Fk",
        "outputId": "9bca86ba-9ffa-4e1b-da9f-0d893c284a67"
      },
      "execution_count": 67,
      "outputs": [
        {
          "output_type": "stream",
          "name": "stdout",
          "text": [
            "Net(\n",
            "  (conv1): Conv2d(3, 6, kernel_size=(5, 5), stride=(1, 1))\n",
            "  (pool): MaxPool2d(kernel_size=2, stride=2, padding=0, dilation=1, ceil_mode=False)\n",
            "  (conv2): Conv2d(6, 16, kernel_size=(5, 5), stride=(1, 1))\n",
            "  (fc1): Linear(in_features=400, out_features=120, bias=True)\n",
            "  (fc2): Linear(in_features=120, out_features=84, bias=True)\n",
            "  (fc3): Linear(in_features=84, out_features=10, bias=True)\n",
            ")\n",
            "\n",
            "Image batch shape:\n",
            "torch.Size([1, 3, 32, 32])\n",
            "\n",
            "Raw output:\n",
            "tensor([[ 0.0446,  0.0226, -0.0521,  0.0304,  0.0181, -0.1099,  0.0552, -0.0143,\n",
            "          0.0374, -0.0088]], grad_fn=<AddmmBackward0>)\n",
            "torch.Size([1, 10])\n"
          ]
        }
      ]
    },
    {
      "cell_type": "code",
      "source": [
        "transform = transforms.Compose(\n",
        "    [transforms.ToTensor(),\n",
        "     transforms.Normalize((0.5, 0.5, 0.5), (0.5, 0.5, 0.5))])\n",
        "# transforms.ToTensor converts images loaded by Pillow into PyTorch tensors\n",
        "# transforms.Normalize adjusts the values of the nesor so the average is 0 and the standard deviation is 0.5 (normal distribution). Learning can be speeded since centering around zero is where activation functions have their strongest gradient\n"
      ],
      "metadata": {
        "id": "aAi8QKF5lxBL"
      },
      "execution_count": 63,
      "outputs": []
    },
    {
      "cell_type": "code",
      "source": [
        "trainset = torchvision.datasets.CIFAR10(root = \"./data\", train = True, download=True, transform = transform)\n",
        "# subclass of torch-utils.data.Dataset  where data is sent, used for training?, download data?, transformations uzed\n",
        "trainloader = torch.utils.data.DataLoader(trainset, batch_size = 4, shuffle = True, num_workers=2) # 2 workers to load from disk"
      ],
      "metadata": {
        "id": "DFOfikacrkdo"
      },
      "execution_count": 64,
      "outputs": []
    },
    {
      "cell_type": "code",
      "source": [
        "testset = torchvision.datasets.CIFAR10(root = \"./data\", train = False, download=True, transform = transform)\n",
        "testloader = torch.utils.data.DataLoader(trainset, batch_size = 4, shuffle = False, num_workers=2) # 2 workers to load from disk"
      ],
      "metadata": {
        "id": "0zLjzPL0sURv"
      },
      "execution_count": 65,
      "outputs": []
    },
    {
      "cell_type": "code",
      "source": [
        "# Example on how to load and visualize data\n",
        "classes = ['plane', 'car', 'bird', 'cat', 'deer', 'dog', 'frog', 'horse', 'ship', 'truck']\n",
        "\n",
        "def imshow(img):\n",
        "  img = img/2 + 0.5 # unnormalize where std is 0.5\n",
        "  npimg = img.numpy()\n",
        "  plt.imshow(np.transpose(npimg, (1,2,0)))\n",
        "\n",
        "# gets random images from trainloader\n",
        "dataiter = iter(trainloader)\n",
        "images, labels = next(dataiter)\n",
        "\n",
        "# show images\n",
        "imshow(torchvision.utils.make_grid(images))\n",
        "# print labels\n",
        "print(' '.join('%5s' % classes[labels[j]] for j in range(4)))"
      ],
      "metadata": {
        "colab": {
          "base_uri": "https://localhost:8080/",
          "height": 210
        },
        "id": "lkrl3Ki0sqsU",
        "outputId": "613c5c6f-2117-4957-8f28-47cc0bdfcb8f"
      },
      "execution_count": 66,
      "outputs": [
        {
          "output_type": "stream",
          "name": "stdout",
          "text": [
            "horse plane  frog plane\n"
          ]
        },
        {
          "output_type": "display_data",
          "data": {
            "text/plain": [
              "<Figure size 640x480 with 1 Axes>"
            ],
            "image/png": "[encoded data removed]"
          },
          "metadata": {}
        }
      ]
    },
    {
      "cell_type": "code",
      "source": [
        "criterion = nn.CrossEntropyLoss() # typical loss function for image classification models\n",
        "# loss functions are a measure for how far from ideal the prediction was\n",
        "optimizer = optim.SGD(net.parameters(), lr = 0.001, momentum = 0.9)\n",
        "# stochastic gradient descent, learning rate (lr), momentum"
      ],
      "metadata": {
        "id": "NtZkrH-CxQhY"
      },
      "execution_count": 70,
      "outputs": []
    },
    {
      "cell_type": "code",
      "source": [
        "for epoch in range(2):\n",
        "\n",
        "  running_loss = 0.0\n",
        "  for i, data in enumerate(trainloader, 0):\n",
        "    # get inputs\n",
        "    inputs, labels = data\n",
        "\n",
        "    #zero the parameter gradients\n",
        "    optimizer.zero_grad()\n",
        "\n",
        "    # forward + backward + optimize\n",
        "    outputs = net(inputs)\n",
        "    loss = criterion(outputs, labels)\n",
        "    loss.backward()\n",
        "    optimizer.step()\n",
        "\n",
        "    # print statistics\n",
        "    running_loss += loss.item()\n",
        "    if i % 2000 == 1999:   # print every 2000 mini-batches\n",
        "      print('[%d, %5s] loss: %.3f' % (epoch + 1, i + 1, running_loss/2000))\n",
        "      running_loss = 0.0\n",
        "\n",
        "print('Finished Training')"
      ],
      "metadata": {
        "colab": {
          "base_uri": "https://localhost:8080/"
        },
        "id": "lF5ZRMLRx43R",
        "outputId": "632aa012-5f3b-41bb-911a-724769e98930"
      },
      "execution_count": 71,
      "outputs": [
        {
          "output_type": "stream",
          "name": "stdout",
          "text": [
            "[1,  2000] loss: 2.216\n",
            "[1,  4000] loss: 1.885\n",
            "[1,  6000] loss: 1.662\n",
            "[1,  8000] loss: 1.577\n",
            "[1, 10000] loss: 1.535\n",
            "[1, 12000] loss: 1.472\n",
            "[2,  2000] loss: 1.428\n",
            "[2,  4000] loss: 1.365\n",
            "[2,  6000] loss: 1.352\n",
            "[2,  8000] loss: 1.352\n",
            "[2, 10000] loss: 1.324\n",
            "[2, 12000] loss: 1.290\n",
            "Finished Training\n"
          ]
        }
      ]
    },
    {
      "cell_type": "markdown",
      "source": [
        "Zeroing the gradient (line 9) is important because gradients are accumulated over a batch.\n",
        "\n",
        "optimizer.step() moves 1 step towards a lower loss (Stochastic Gradient Descent)"
      ],
      "metadata": {
        "id": "DdLbqlMSy-0z"
      }
    },
    {
      "cell_type": "code",
      "source": [
        "correct = 0\n",
        "total = 0\n",
        "with torch.no_grad():\n",
        "  for data in testloader:\n",
        "    images, labels = data\n",
        "    outputs = net(images)\n",
        "    _, predicted = torch.max(outputs.data, 1)\n",
        "    total += labels.size(0)\n",
        "    correct += (predicted == labels).sum().item()\n",
        "\n",
        "print(100 * correct / total)"
      ],
      "metadata": {
        "colab": {
          "base_uri": "https://localhost:8080/"
        },
        "id": "2DofRIrYz2l_",
        "outputId": "22c9561d-50d0-44ae-9dad-0a582d7d6024"
      },
      "execution_count": 74,
      "outputs": [
        {
          "output_type": "stream",
          "name": "stdout",
          "text": [
            "56.416\n"
          ]
        }
      ]
    }
  ],
  "metadata": {
    "kernelspec": {
      "display_name": "Python 3",
      "language": "python",
      "name": "python3"
    },
    "language_info": {
      "codemirror_mode": {
        "name": "ipython",
        "version": 3
      },
      "file_extension": ".py",
      "mimetype": "text/x-python",
      "name": "python",
      "nbconvert_exporter": "python",
      "pygments_lexer": "ipython3",
      "version": "3.10.12"
    },
    "colab": {
      "provenance": []
    }
  },
  "nbformat": 4,
  "nbformat_minor": 0
}